{
 "cells": [
  {
   "cell_type": "markdown",
   "metadata": {
    "id": "CC0UWlbIzFZh"
   },
   "source": [
    "# Step 1. Create and Train an AutoEncoder that would learn the patterns of the normal sensor reading"
   ]
  },
  {
   "cell_type": "code",
   "execution_count": 202,
   "metadata": {
    "id": "ahhGWRGG3bg8"
   },
   "outputs": [],
   "source": [
    "import pandas as pd"
   ]
  },
  {
   "cell_type": "code",
   "execution_count": null,
   "metadata": {
    "colab": {
     "base_uri": "https://localhost:8080/",
     "height": 290
    },
    "id": "-VXlj2645Bfg",
    "outputId": "72878225-2a62-4b1c-e0c4-281d2b54a8cb"
   },
   "outputs": [
    {
     "data": {
      "application/vnd.google.colaboratory.intrinsic+json": {
       "type": "dataframe",
       "variable_name": "df"
      },
      "text/html": [
       "\n",
       "  <div id=\"df-31229971-32e0-4ccf-a787-cdaa6d85121a\" class=\"colab-df-container\">\n",
       "    <div>\n",
       "<style scoped>\n",
       "    .dataframe tbody tr th:only-of-type {\n",
       "        vertical-align: middle;\n",
       "    }\n",
       "\n",
       "    .dataframe tbody tr th {\n",
       "        vertical-align: top;\n",
       "    }\n",
       "\n",
       "    .dataframe thead th {\n",
       "        text-align: right;\n",
       "    }\n",
       "</style>\n",
       "<table border=\"1\" class=\"dataframe\">\n",
       "  <thead>\n",
       "    <tr style=\"text-align: right;\">\n",
       "      <th></th>\n",
       "      <th>heart_rate</th>\n",
       "      <th>hand temperature (°C)</th>\n",
       "      <th>hand acceleration X ±16g</th>\n",
       "      <th>hand acceleration Y ±16g</th>\n",
       "      <th>hand acceleration Z ±16g</th>\n",
       "      <th>hand gyroscope X</th>\n",
       "      <th>hand gyroscope Y</th>\n",
       "      <th>hand gyroscope Z</th>\n",
       "      <th>hand magnetometer X</th>\n",
       "      <th>hand magnetometer Y</th>\n",
       "      <th>...</th>\n",
       "      <th>ankle acceleration X ±16g</th>\n",
       "      <th>ankle acceleration Y ±16g</th>\n",
       "      <th>ankle acceleration Z ±16g</th>\n",
       "      <th>ankle gyroscope X</th>\n",
       "      <th>ankle gyroscope Y</th>\n",
       "      <th>ankle gyroscope Z</th>\n",
       "      <th>ankle magnetometer X</th>\n",
       "      <th>ankle magnetometer Y</th>\n",
       "      <th>ankle magnetometer Z</th>\n",
       "      <th>Monitor_Category</th>\n",
       "    </tr>\n",
       "  </thead>\n",
       "  <tbody>\n",
       "    <tr>\n",
       "      <th>0</th>\n",
       "      <td>0.247619</td>\n",
       "      <td>0.0</td>\n",
       "      <td>0.845420</td>\n",
       "      <td>0.477510</td>\n",
       "      <td>0.226147</td>\n",
       "      <td>0.402513</td>\n",
       "      <td>0.721178</td>\n",
       "      <td>0.514036</td>\n",
       "      <td>0.362942</td>\n",
       "      <td>0.391370</td>\n",
       "      <td>...</td>\n",
       "      <td>0.296982</td>\n",
       "      <td>0.493712</td>\n",
       "      <td>0.613909</td>\n",
       "      <td>0.471061</td>\n",
       "      <td>0.549782</td>\n",
       "      <td>0.552562</td>\n",
       "      <td>0.413018</td>\n",
       "      <td>0.378801</td>\n",
       "      <td>0.218481</td>\n",
       "      <td>No Activity</td>\n",
       "    </tr>\n",
       "    <tr>\n",
       "      <th>1</th>\n",
       "      <td>0.247619</td>\n",
       "      <td>0.0</td>\n",
       "      <td>0.844225</td>\n",
       "      <td>0.477323</td>\n",
       "      <td>0.227056</td>\n",
       "      <td>0.404957</td>\n",
       "      <td>0.720885</td>\n",
       "      <td>0.515119</td>\n",
       "      <td>0.363824</td>\n",
       "      <td>0.391334</td>\n",
       "      <td>...</td>\n",
       "      <td>0.297156</td>\n",
       "      <td>0.493958</td>\n",
       "      <td>0.613376</td>\n",
       "      <td>0.470461</td>\n",
       "      <td>0.548805</td>\n",
       "      <td>0.553417</td>\n",
       "      <td>0.417977</td>\n",
       "      <td>0.379061</td>\n",
       "      <td>0.216851</td>\n",
       "      <td>No Activity</td>\n",
       "    </tr>\n",
       "    <tr>\n",
       "      <th>2</th>\n",
       "      <td>0.247619</td>\n",
       "      <td>0.0</td>\n",
       "      <td>0.845429</td>\n",
       "      <td>0.477512</td>\n",
       "      <td>0.226378</td>\n",
       "      <td>0.403747</td>\n",
       "      <td>0.720393</td>\n",
       "      <td>0.514466</td>\n",
       "      <td>0.361173</td>\n",
       "      <td>0.390226</td>\n",
       "      <td>...</td>\n",
       "      <td>0.296632</td>\n",
       "      <td>0.493464</td>\n",
       "      <td>0.614795</td>\n",
       "      <td>0.470848</td>\n",
       "      <td>0.549141</td>\n",
       "      <td>0.554470</td>\n",
       "      <td>0.414692</td>\n",
       "      <td>0.377063</td>\n",
       "      <td>0.217387</td>\n",
       "      <td>No Activity</td>\n",
       "    </tr>\n",
       "    <tr>\n",
       "      <th>3</th>\n",
       "      <td>0.247619</td>\n",
       "      <td>0.0</td>\n",
       "      <td>0.843486</td>\n",
       "      <td>0.477126</td>\n",
       "      <td>0.227046</td>\n",
       "      <td>0.405752</td>\n",
       "      <td>0.720401</td>\n",
       "      <td>0.514623</td>\n",
       "      <td>0.363790</td>\n",
       "      <td>0.390136</td>\n",
       "      <td>...</td>\n",
       "      <td>0.296626</td>\n",
       "      <td>0.493343</td>\n",
       "      <td>0.614618</td>\n",
       "      <td>0.470854</td>\n",
       "      <td>0.547703</td>\n",
       "      <td>0.553936</td>\n",
       "      <td>0.415902</td>\n",
       "      <td>0.379553</td>\n",
       "      <td>0.217405</td>\n",
       "      <td>No Activity</td>\n",
       "    </tr>\n",
       "    <tr>\n",
       "      <th>4</th>\n",
       "      <td>0.247619</td>\n",
       "      <td>0.0</td>\n",
       "      <td>0.844491</td>\n",
       "      <td>0.478735</td>\n",
       "      <td>0.227285</td>\n",
       "      <td>0.406279</td>\n",
       "      <td>0.719931</td>\n",
       "      <td>0.512217</td>\n",
       "      <td>0.366495</td>\n",
       "      <td>0.392835</td>\n",
       "      <td>...</td>\n",
       "      <td>0.297176</td>\n",
       "      <td>0.493710</td>\n",
       "      <td>0.614088</td>\n",
       "      <td>0.471238</td>\n",
       "      <td>0.548125</td>\n",
       "      <td>0.553265</td>\n",
       "      <td>0.411794</td>\n",
       "      <td>0.377162</td>\n",
       "      <td>0.217944</td>\n",
       "      <td>No Activity</td>\n",
       "    </tr>\n",
       "  </tbody>\n",
       "</table>\n",
       "<p>5 rows × 32 columns</p>\n",
       "</div>\n",
       "    <div class=\"colab-df-buttons\">\n",
       "\n",
       "  <div class=\"colab-df-container\">\n",
       "    <button class=\"colab-df-convert\" onclick=\"convertToInteractive('df-31229971-32e0-4ccf-a787-cdaa6d85121a')\"\n",
       "            title=\"Convert this dataframe to an interactive table.\"\n",
       "            style=\"display:none;\">\n",
       "\n",
       "  <svg xmlns=\"http://www.w3.org/2000/svg\" height=\"24px\" viewBox=\"0 -960 960 960\">\n",
       "    <path d=\"M120-120v-720h720v720H120Zm60-500h600v-160H180v160Zm220 220h160v-160H400v160Zm0 220h160v-160H400v160ZM180-400h160v-160H180v160Zm440 0h160v-160H620v160ZM180-180h160v-160H180v160Zm440 0h160v-160H620v160Z\"/>\n",
       "  </svg>\n",
       "    </button>\n",
       "\n",
       "  <style>\n",
       "    .colab-df-container {\n",
       "      display:flex;\n",
       "      gap: 12px;\n",
       "    }\n",
       "\n",
       "    .colab-df-convert {\n",
       "      background-color: #E8F0FE;\n",
       "      border: none;\n",
       "      border-radius: 50%;\n",
       "      cursor: pointer;\n",
       "      display: none;\n",
       "      fill: #1967D2;\n",
       "      height: 32px;\n",
       "      padding: 0 0 0 0;\n",
       "      width: 32px;\n",
       "    }\n",
       "\n",
       "    .colab-df-convert:hover {\n",
       "      background-color: #E2EBFA;\n",
       "      box-shadow: 0px 1px 2px rgba(60, 64, 67, 0.3), 0px 1px 3px 1px rgba(60, 64, 67, 0.15);\n",
       "      fill: #174EA6;\n",
       "    }\n",
       "\n",
       "    .colab-df-buttons div {\n",
       "      margin-bottom: 4px;\n",
       "    }\n",
       "\n",
       "    [theme=dark] .colab-df-convert {\n",
       "      background-color: #3B4455;\n",
       "      fill: #D2E3FC;\n",
       "    }\n",
       "\n",
       "    [theme=dark] .colab-df-convert:hover {\n",
       "      background-color: #434B5C;\n",
       "      box-shadow: 0px 1px 3px 1px rgba(0, 0, 0, 0.15);\n",
       "      filter: drop-shadow(0px 1px 2px rgba(0, 0, 0, 0.3));\n",
       "      fill: #FFFFFF;\n",
       "    }\n",
       "  </style>\n",
       "\n",
       "    <script>\n",
       "      const buttonEl =\n",
       "        document.querySelector('#df-31229971-32e0-4ccf-a787-cdaa6d85121a button.colab-df-convert');\n",
       "      buttonEl.style.display =\n",
       "        google.colab.kernel.accessAllowed ? 'block' : 'none';\n",
       "\n",
       "      async function convertToInteractive(key) {\n",
       "        const element = document.querySelector('#df-31229971-32e0-4ccf-a787-cdaa6d85121a');\n",
       "        const dataTable =\n",
       "          await google.colab.kernel.invokeFunction('convertToInteractive',\n",
       "                                                    [key], {});\n",
       "        if (!dataTable) return;\n",
       "\n",
       "        const docLinkHtml = 'Like what you see? Visit the ' +\n",
       "          '<a target=\"_blank\" href=https://colab.research.google.com/notebooks/data_table.ipynb>data table notebook</a>'\n",
       "          + ' to learn more about interactive tables.';\n",
       "        element.innerHTML = '';\n",
       "        dataTable['output_type'] = 'display_data';\n",
       "        await google.colab.output.renderOutput(dataTable, element);\n",
       "        const docLink = document.createElement('div');\n",
       "        docLink.innerHTML = docLinkHtml;\n",
       "        element.appendChild(docLink);\n",
       "      }\n",
       "    </script>\n",
       "  </div>\n",
       "\n",
       "\n",
       "<div id=\"df-c1cf86c6-f4c3-4c95-8873-e5753d310dd8\">\n",
       "  <button class=\"colab-df-quickchart\" onclick=\"quickchart('df-c1cf86c6-f4c3-4c95-8873-e5753d310dd8')\"\n",
       "            title=\"Suggest charts\"\n",
       "            style=\"display:none;\">\n",
       "\n",
       "<svg xmlns=\"http://www.w3.org/2000/svg\" height=\"24px\"viewBox=\"0 0 24 24\"\n",
       "     width=\"24px\">\n",
       "    <g>\n",
       "        <path d=\"M19 3H5c-1.1 0-2 .9-2 2v14c0 1.1.9 2 2 2h14c1.1 0 2-.9 2-2V5c0-1.1-.9-2-2-2zM9 17H7v-7h2v7zm4 0h-2V7h2v10zm4 0h-2v-4h2v4z\"/>\n",
       "    </g>\n",
       "</svg>\n",
       "  </button>\n",
       "\n",
       "<style>\n",
       "  .colab-df-quickchart {\n",
       "      --bg-color: #E8F0FE;\n",
       "      --fill-color: #1967D2;\n",
       "      --hover-bg-color: #E2EBFA;\n",
       "      --hover-fill-color: #174EA6;\n",
       "      --disabled-fill-color: #AAA;\n",
       "      --disabled-bg-color: #DDD;\n",
       "  }\n",
       "\n",
       "  [theme=dark] .colab-df-quickchart {\n",
       "      --bg-color: #3B4455;\n",
       "      --fill-color: #D2E3FC;\n",
       "      --hover-bg-color: #434B5C;\n",
       "      --hover-fill-color: #FFFFFF;\n",
       "      --disabled-bg-color: #3B4455;\n",
       "      --disabled-fill-color: #666;\n",
       "  }\n",
       "\n",
       "  .colab-df-quickchart {\n",
       "    background-color: var(--bg-color);\n",
       "    border: none;\n",
       "    border-radius: 50%;\n",
       "    cursor: pointer;\n",
       "    display: none;\n",
       "    fill: var(--fill-color);\n",
       "    height: 32px;\n",
       "    padding: 0;\n",
       "    width: 32px;\n",
       "  }\n",
       "\n",
       "  .colab-df-quickchart:hover {\n",
       "    background-color: var(--hover-bg-color);\n",
       "    box-shadow: 0 1px 2px rgba(60, 64, 67, 0.3), 0 1px 3px 1px rgba(60, 64, 67, 0.15);\n",
       "    fill: var(--button-hover-fill-color);\n",
       "  }\n",
       "\n",
       "  .colab-df-quickchart-complete:disabled,\n",
       "  .colab-df-quickchart-complete:disabled:hover {\n",
       "    background-color: var(--disabled-bg-color);\n",
       "    fill: var(--disabled-fill-color);\n",
       "    box-shadow: none;\n",
       "  }\n",
       "\n",
       "  .colab-df-spinner {\n",
       "    border: 2px solid var(--fill-color);\n",
       "    border-color: transparent;\n",
       "    border-bottom-color: var(--fill-color);\n",
       "    animation:\n",
       "      spin 1s steps(1) infinite;\n",
       "  }\n",
       "\n",
       "  @keyframes spin {\n",
       "    0% {\n",
       "      border-color: transparent;\n",
       "      border-bottom-color: var(--fill-color);\n",
       "      border-left-color: var(--fill-color);\n",
       "    }\n",
       "    20% {\n",
       "      border-color: transparent;\n",
       "      border-left-color: var(--fill-color);\n",
       "      border-top-color: var(--fill-color);\n",
       "    }\n",
       "    30% {\n",
       "      border-color: transparent;\n",
       "      border-left-color: var(--fill-color);\n",
       "      border-top-color: var(--fill-color);\n",
       "      border-right-color: var(--fill-color);\n",
       "    }\n",
       "    40% {\n",
       "      border-color: transparent;\n",
       "      border-right-color: var(--fill-color);\n",
       "      border-top-color: var(--fill-color);\n",
       "    }\n",
       "    60% {\n",
       "      border-color: transparent;\n",
       "      border-right-color: var(--fill-color);\n",
       "    }\n",
       "    80% {\n",
       "      border-color: transparent;\n",
       "      border-right-color: var(--fill-color);\n",
       "      border-bottom-color: var(--fill-color);\n",
       "    }\n",
       "    90% {\n",
       "      border-color: transparent;\n",
       "      border-bottom-color: var(--fill-color);\n",
       "    }\n",
       "  }\n",
       "</style>\n",
       "\n",
       "  <script>\n",
       "    async function quickchart(key) {\n",
       "      const quickchartButtonEl =\n",
       "        document.querySelector('#' + key + ' button');\n",
       "      quickchartButtonEl.disabled = true;  // To prevent multiple clicks.\n",
       "      quickchartButtonEl.classList.add('colab-df-spinner');\n",
       "      try {\n",
       "        const charts = await google.colab.kernel.invokeFunction(\n",
       "            'suggestCharts', [key], {});\n",
       "      } catch (error) {\n",
       "        console.error('Error during call to suggestCharts:', error);\n",
       "      }\n",
       "      quickchartButtonEl.classList.remove('colab-df-spinner');\n",
       "      quickchartButtonEl.classList.add('colab-df-quickchart-complete');\n",
       "    }\n",
       "    (() => {\n",
       "      let quickchartButtonEl =\n",
       "        document.querySelector('#df-c1cf86c6-f4c3-4c95-8873-e5753d310dd8 button');\n",
       "      quickchartButtonEl.style.display =\n",
       "        google.colab.kernel.accessAllowed ? 'block' : 'none';\n",
       "    })();\n",
       "  </script>\n",
       "</div>\n",
       "\n",
       "    </div>\n",
       "  </div>\n"
      ],
      "text/plain": [
       "   heart_rate  hand temperature (°C)  hand acceleration X ±16g  \\\n",
       "0    0.247619                    0.0                  0.845420   \n",
       "1    0.247619                    0.0                  0.844225   \n",
       "2    0.247619                    0.0                  0.845429   \n",
       "3    0.247619                    0.0                  0.843486   \n",
       "4    0.247619                    0.0                  0.844491   \n",
       "\n",
       "   hand acceleration Y ±16g  hand acceleration Z ±16g  hand gyroscope X  \\\n",
       "0                  0.477510                  0.226147          0.402513   \n",
       "1                  0.477323                  0.227056          0.404957   \n",
       "2                  0.477512                  0.226378          0.403747   \n",
       "3                  0.477126                  0.227046          0.405752   \n",
       "4                  0.478735                  0.227285          0.406279   \n",
       "\n",
       "   hand gyroscope Y  hand gyroscope Z  hand magnetometer X  \\\n",
       "0          0.721178          0.514036             0.362942   \n",
       "1          0.720885          0.515119             0.363824   \n",
       "2          0.720393          0.514466             0.361173   \n",
       "3          0.720401          0.514623             0.363790   \n",
       "4          0.719931          0.512217             0.366495   \n",
       "\n",
       "   hand magnetometer Y  ...  ankle acceleration X ±16g  \\\n",
       "0             0.391370  ...                   0.296982   \n",
       "1             0.391334  ...                   0.297156   \n",
       "2             0.390226  ...                   0.296632   \n",
       "3             0.390136  ...                   0.296626   \n",
       "4             0.392835  ...                   0.297176   \n",
       "\n",
       "   ankle acceleration Y ±16g  ankle acceleration Z ±16g  ankle gyroscope X  \\\n",
       "0                   0.493712                   0.613909           0.471061   \n",
       "1                   0.493958                   0.613376           0.470461   \n",
       "2                   0.493464                   0.614795           0.470848   \n",
       "3                   0.493343                   0.614618           0.470854   \n",
       "4                   0.493710                   0.614088           0.471238   \n",
       "\n",
       "   ankle gyroscope Y  ankle gyroscope Z  ankle magnetometer X  \\\n",
       "0           0.549782           0.552562              0.413018   \n",
       "1           0.548805           0.553417              0.417977   \n",
       "2           0.549141           0.554470              0.414692   \n",
       "3           0.547703           0.553936              0.415902   \n",
       "4           0.548125           0.553265              0.411794   \n",
       "\n",
       "   ankle magnetometer Y  ankle magnetometer Z  Monitor_Category  \n",
       "0              0.378801              0.218481       No Activity  \n",
       "1              0.379061              0.216851       No Activity  \n",
       "2              0.377063              0.217387       No Activity  \n",
       "3              0.379553              0.217405       No Activity  \n",
       "4              0.377162              0.217944       No Activity  \n",
       "\n",
       "[5 rows x 32 columns]"
      ]
     },
     "execution_count": 203,
     "metadata": {},
     "output_type": "execute_result"
    }
   ],
   "source": [
    "df = pd.read_csv('dataset_preprocessed.csv')\n",
    "\n",
    "df.head()"
   ]
  },
  {
   "cell_type": "code",
   "execution_count": null,
   "metadata": {
    "collapsed": true,
    "id": "UFzOYnjR5G_e"
   },
   "outputs": [],
   "source": [
    "# Separating the training dataset for normal and anomalies\n",
    "X_activity = df[df['Monitor_Category'] == \"Activity\"].drop(columns=['Monitor_Category'])\n",
    "X_noactivity = df[df['Monitor_Category'] == \"No Activity\"].drop(columns=['Monitor_Category'])"
   ]
  },
  {
   "cell_type": "code",
   "execution_count": 205,
   "metadata": {
    "id": "eiRd7ros-FP1"
   },
   "outputs": [],
   "source": [
    "import torch\n",
    "from torch import nn"
   ]
  },
  {
   "cell_type": "code",
   "execution_count": 206,
   "metadata": {
    "id": "IAUSJBV8-9wA"
   },
   "outputs": [],
   "source": [
    "# Create AutoEncoder class\n",
    "\n",
    "class AnomalyDetection(nn.Module):\n",
    "  def __init__(self):\n",
    "    super().__init__()\n",
    "\n",
    "    # Encoder\n",
    "    self.encoder = nn.Linear(31, 20)\n",
    "\n",
    "    # Decoder\n",
    "    self.decoder = nn.Linear(20, 31)\n",
    "\n",
    "  # Forward pass to get latent vector from encoder, and get reconstruct it with decoder\n",
    "  def forward(self, x):\n",
    "    latent = self.encoder(x)\n",
    "    reconstructed = self.decoder(latent)\n",
    "    return reconstructed"
   ]
  },
  {
   "cell_type": "code",
   "execution_count": 207,
   "metadata": {
    "id": "fHeDp20g_pb7"
   },
   "outputs": [],
   "source": [
    "model = AnomalyDetection()\n",
    "loss_fn = nn.MSELoss()\n",
    "optimizer = torch.optim.SGD(model.parameters(), lr=0.0001)\n",
    "\n",
    "epochs = 10\n",
    "batch_size = 32"
   ]
  },
  {
   "cell_type": "code",
   "execution_count": 208,
   "metadata": {
    "id": "Ts0VUalVAE_P"
   },
   "outputs": [],
   "source": [
    "X_activity_tensor = torch.tensor(X_activity.values).to(torch.float32)\n",
    "X_noactivity_tensor = torch.tensor(X_noactivity.values).to(torch.float32)"
   ]
  },
  {
   "cell_type": "code",
   "execution_count": 209,
   "metadata": {
    "colab": {
     "base_uri": "https://localhost:8080/"
    },
    "id": "KN8hgpq4AV6K",
    "outputId": "793d6961-340e-43ac-a735-78319bf8bdde"
   },
   "outputs": [
    {
     "name": "stdout",
     "output_type": "stream",
     "text": []
    }
   ],
   "source": [
    "# Train the model\n",
    "loss_values = []\n",
    "model.train()\n",
    "\n",
    "for epoch in range(epochs):\n",
    "  for i in range(0, len(X_noactivity), batch_size):\n",
    "    reconst = model(X_noactivity_tensor[i:i+batch_size])\n",
    "    loss = loss_fn(reconst, X_noactivity_tensor[i:i+batch_size])\n",
    "\n",
    "    loss.backward()\n",
    "    optimizer.step()\n",
    "    optimizer.zero_grad()\n",
    "\n",
    "    loss_values.append(loss.item())\n",
    "\n",
    "    print('Epoch {0} Step {1}: Loss - {2}'.format(epoch+1, i, loss.item()), end='\\r')"
   ]
  },
  {
   "cell_type": "code",
   "execution_count": 210,
   "metadata": {
    "id": "4uHcr60JAnwX"
   },
   "outputs": [],
   "source": [
    "# Evaluate model\n",
    "model.eval()\n",
    "\n",
    "activity_loss = []\n",
    "\n",
    "sample_size = 10000\n",
    "\n",
    "for i in range(0, sample_size):\n",
    "  with torch.no_grad():\n",
    "    reconstructed = model(X_activity_tensor[i])\n",
    "    loss = loss_fn(reconstructed,X_activity_tensor[i])\n",
    "\n",
    "    activity_loss.append(loss.item())\n",
    "\n",
    "noactivity_loss = []\n",
    "\n",
    "for i in range(0, sample_size):\n",
    "  with torch.no_grad():\n",
    "    reconstructed = model(X_noactivity_tensor[i])\n",
    "    loss = loss_fn(reconstructed,X_noactivity_tensor[i])\n",
    "\n",
    "    noactivity_loss.append(loss.item())\n"
   ]
  },
  {
   "cell_type": "code",
   "execution_count": 211,
   "metadata": {
    "colab": {
     "base_uri": "https://localhost:8080/",
     "height": 206
    },
    "id": "dOQVjnfOESbH",
    "outputId": "23640ddf-1af7-4270-a740-59d6df2128f5"
   },
   "outputs": [
    {
     "data": {
      "application/vnd.google.colaboratory.intrinsic+json": {
       "summary": "{\n  \"name\": \"df_full\",\n  \"rows\": 20000,\n  \"fields\": [\n    {\n      \"column\": \"value\",\n      \"properties\": {\n        \"dtype\": \"number\",\n        \"std\": 0.01641113307710068,\n        \"min\": 0.006076046731323004,\n        \"max\": 0.05567321926355362,\n        \"num_unique_values\": 19961,\n        \"samples\": [\n          0.012195313349366188,\n          0.010608130134642124,\n          0.04772130772471428\n        ],\n        \"semantic_type\": \"\",\n        \"description\": \"\"\n      }\n    },\n    {\n      \"column\": \"category\",\n      \"properties\": {\n        \"dtype\": \"category\",\n        \"num_unique_values\": 2,\n        \"samples\": [\n          \"activity\",\n          \"noactivity\"\n        ],\n        \"semantic_type\": \"\",\n        \"description\": \"\"\n      }\n    }\n  ]\n}",
       "type": "dataframe",
       "variable_name": "df_full"
      },
      "text/html": [
       "\n",
       "  <div id=\"df-a5394065-29a5-495e-b30f-a445e21a7e4b\" class=\"colab-df-container\">\n",
       "    <div>\n",
       "<style scoped>\n",
       "    .dataframe tbody tr th:only-of-type {\n",
       "        vertical-align: middle;\n",
       "    }\n",
       "\n",
       "    .dataframe tbody tr th {\n",
       "        vertical-align: top;\n",
       "    }\n",
       "\n",
       "    .dataframe thead th {\n",
       "        text-align: right;\n",
       "    }\n",
       "</style>\n",
       "<table border=\"1\" class=\"dataframe\">\n",
       "  <thead>\n",
       "    <tr style=\"text-align: right;\">\n",
       "      <th></th>\n",
       "      <th>value</th>\n",
       "      <th>category</th>\n",
       "    </tr>\n",
       "  </thead>\n",
       "  <tbody>\n",
       "    <tr>\n",
       "      <th>0</th>\n",
       "      <td>0.047611</td>\n",
       "      <td>noactivity</td>\n",
       "    </tr>\n",
       "    <tr>\n",
       "      <th>1</th>\n",
       "      <td>0.047704</td>\n",
       "      <td>noactivity</td>\n",
       "    </tr>\n",
       "    <tr>\n",
       "      <th>2</th>\n",
       "      <td>0.047661</td>\n",
       "      <td>noactivity</td>\n",
       "    </tr>\n",
       "    <tr>\n",
       "      <th>3</th>\n",
       "      <td>0.047573</td>\n",
       "      <td>noactivity</td>\n",
       "    </tr>\n",
       "    <tr>\n",
       "      <th>4</th>\n",
       "      <td>0.047452</td>\n",
       "      <td>noactivity</td>\n",
       "    </tr>\n",
       "  </tbody>\n",
       "</table>\n",
       "</div>\n",
       "    <div class=\"colab-df-buttons\">\n",
       "\n",
       "  <div class=\"colab-df-container\">\n",
       "    <button class=\"colab-df-convert\" onclick=\"convertToInteractive('df-a5394065-29a5-495e-b30f-a445e21a7e4b')\"\n",
       "            title=\"Convert this dataframe to an interactive table.\"\n",
       "            style=\"display:none;\">\n",
       "\n",
       "  <svg xmlns=\"http://www.w3.org/2000/svg\" height=\"24px\" viewBox=\"0 -960 960 960\">\n",
       "    <path d=\"M120-120v-720h720v720H120Zm60-500h600v-160H180v160Zm220 220h160v-160H400v160Zm0 220h160v-160H400v160ZM180-400h160v-160H180v160Zm440 0h160v-160H620v160ZM180-180h160v-160H180v160Zm440 0h160v-160H620v160Z\"/>\n",
       "  </svg>\n",
       "    </button>\n",
       "\n",
       "  <style>\n",
       "    .colab-df-container {\n",
       "      display:flex;\n",
       "      gap: 12px;\n",
       "    }\n",
       "\n",
       "    .colab-df-convert {\n",
       "      background-color: #E8F0FE;\n",
       "      border: none;\n",
       "      border-radius: 50%;\n",
       "      cursor: pointer;\n",
       "      display: none;\n",
       "      fill: #1967D2;\n",
       "      height: 32px;\n",
       "      padding: 0 0 0 0;\n",
       "      width: 32px;\n",
       "    }\n",
       "\n",
       "    .colab-df-convert:hover {\n",
       "      background-color: #E2EBFA;\n",
       "      box-shadow: 0px 1px 2px rgba(60, 64, 67, 0.3), 0px 1px 3px 1px rgba(60, 64, 67, 0.15);\n",
       "      fill: #174EA6;\n",
       "    }\n",
       "\n",
       "    .colab-df-buttons div {\n",
       "      margin-bottom: 4px;\n",
       "    }\n",
       "\n",
       "    [theme=dark] .colab-df-convert {\n",
       "      background-color: #3B4455;\n",
       "      fill: #D2E3FC;\n",
       "    }\n",
       "\n",
       "    [theme=dark] .colab-df-convert:hover {\n",
       "      background-color: #434B5C;\n",
       "      box-shadow: 0px 1px 3px 1px rgba(0, 0, 0, 0.15);\n",
       "      filter: drop-shadow(0px 1px 2px rgba(0, 0, 0, 0.3));\n",
       "      fill: #FFFFFF;\n",
       "    }\n",
       "  </style>\n",
       "\n",
       "    <script>\n",
       "      const buttonEl =\n",
       "        document.querySelector('#df-a5394065-29a5-495e-b30f-a445e21a7e4b button.colab-df-convert');\n",
       "      buttonEl.style.display =\n",
       "        google.colab.kernel.accessAllowed ? 'block' : 'none';\n",
       "\n",
       "      async function convertToInteractive(key) {\n",
       "        const element = document.querySelector('#df-a5394065-29a5-495e-b30f-a445e21a7e4b');\n",
       "        const dataTable =\n",
       "          await google.colab.kernel.invokeFunction('convertToInteractive',\n",
       "                                                    [key], {});\n",
       "        if (!dataTable) return;\n",
       "\n",
       "        const docLinkHtml = 'Like what you see? Visit the ' +\n",
       "          '<a target=\"_blank\" href=https://colab.research.google.com/notebooks/data_table.ipynb>data table notebook</a>'\n",
       "          + ' to learn more about interactive tables.';\n",
       "        element.innerHTML = '';\n",
       "        dataTable['output_type'] = 'display_data';\n",
       "        await google.colab.output.renderOutput(dataTable, element);\n",
       "        const docLink = document.createElement('div');\n",
       "        docLink.innerHTML = docLinkHtml;\n",
       "        element.appendChild(docLink);\n",
       "      }\n",
       "    </script>\n",
       "  </div>\n",
       "\n",
       "\n",
       "<div id=\"df-089e49f3-bcf7-408e-9c52-78d9ac94b482\">\n",
       "  <button class=\"colab-df-quickchart\" onclick=\"quickchart('df-089e49f3-bcf7-408e-9c52-78d9ac94b482')\"\n",
       "            title=\"Suggest charts\"\n",
       "            style=\"display:none;\">\n",
       "\n",
       "<svg xmlns=\"http://www.w3.org/2000/svg\" height=\"24px\"viewBox=\"0 0 24 24\"\n",
       "     width=\"24px\">\n",
       "    <g>\n",
       "        <path d=\"M19 3H5c-1.1 0-2 .9-2 2v14c0 1.1.9 2 2 2h14c1.1 0 2-.9 2-2V5c0-1.1-.9-2-2-2zM9 17H7v-7h2v7zm4 0h-2V7h2v10zm4 0h-2v-4h2v4z\"/>\n",
       "    </g>\n",
       "</svg>\n",
       "  </button>\n",
       "\n",
       "<style>\n",
       "  .colab-df-quickchart {\n",
       "      --bg-color: #E8F0FE;\n",
       "      --fill-color: #1967D2;\n",
       "      --hover-bg-color: #E2EBFA;\n",
       "      --hover-fill-color: #174EA6;\n",
       "      --disabled-fill-color: #AAA;\n",
       "      --disabled-bg-color: #DDD;\n",
       "  }\n",
       "\n",
       "  [theme=dark] .colab-df-quickchart {\n",
       "      --bg-color: #3B4455;\n",
       "      --fill-color: #D2E3FC;\n",
       "      --hover-bg-color: #434B5C;\n",
       "      --hover-fill-color: #FFFFFF;\n",
       "      --disabled-bg-color: #3B4455;\n",
       "      --disabled-fill-color: #666;\n",
       "  }\n",
       "\n",
       "  .colab-df-quickchart {\n",
       "    background-color: var(--bg-color);\n",
       "    border: none;\n",
       "    border-radius: 50%;\n",
       "    cursor: pointer;\n",
       "    display: none;\n",
       "    fill: var(--fill-color);\n",
       "    height: 32px;\n",
       "    padding: 0;\n",
       "    width: 32px;\n",
       "  }\n",
       "\n",
       "  .colab-df-quickchart:hover {\n",
       "    background-color: var(--hover-bg-color);\n",
       "    box-shadow: 0 1px 2px rgba(60, 64, 67, 0.3), 0 1px 3px 1px rgba(60, 64, 67, 0.15);\n",
       "    fill: var(--button-hover-fill-color);\n",
       "  }\n",
       "\n",
       "  .colab-df-quickchart-complete:disabled,\n",
       "  .colab-df-quickchart-complete:disabled:hover {\n",
       "    background-color: var(--disabled-bg-color);\n",
       "    fill: var(--disabled-fill-color);\n",
       "    box-shadow: none;\n",
       "  }\n",
       "\n",
       "  .colab-df-spinner {\n",
       "    border: 2px solid var(--fill-color);\n",
       "    border-color: transparent;\n",
       "    border-bottom-color: var(--fill-color);\n",
       "    animation:\n",
       "      spin 1s steps(1) infinite;\n",
       "  }\n",
       "\n",
       "  @keyframes spin {\n",
       "    0% {\n",
       "      border-color: transparent;\n",
       "      border-bottom-color: var(--fill-color);\n",
       "      border-left-color: var(--fill-color);\n",
       "    }\n",
       "    20% {\n",
       "      border-color: transparent;\n",
       "      border-left-color: var(--fill-color);\n",
       "      border-top-color: var(--fill-color);\n",
       "    }\n",
       "    30% {\n",
       "      border-color: transparent;\n",
       "      border-left-color: var(--fill-color);\n",
       "      border-top-color: var(--fill-color);\n",
       "      border-right-color: var(--fill-color);\n",
       "    }\n",
       "    40% {\n",
       "      border-color: transparent;\n",
       "      border-right-color: var(--fill-color);\n",
       "      border-top-color: var(--fill-color);\n",
       "    }\n",
       "    60% {\n",
       "      border-color: transparent;\n",
       "      border-right-color: var(--fill-color);\n",
       "    }\n",
       "    80% {\n",
       "      border-color: transparent;\n",
       "      border-right-color: var(--fill-color);\n",
       "      border-bottom-color: var(--fill-color);\n",
       "    }\n",
       "    90% {\n",
       "      border-color: transparent;\n",
       "      border-bottom-color: var(--fill-color);\n",
       "    }\n",
       "  }\n",
       "</style>\n",
       "\n",
       "  <script>\n",
       "    async function quickchart(key) {\n",
       "      const quickchartButtonEl =\n",
       "        document.querySelector('#' + key + ' button');\n",
       "      quickchartButtonEl.disabled = true;  // To prevent multiple clicks.\n",
       "      quickchartButtonEl.classList.add('colab-df-spinner');\n",
       "      try {\n",
       "        const charts = await google.colab.kernel.invokeFunction(\n",
       "            'suggestCharts', [key], {});\n",
       "      } catch (error) {\n",
       "        console.error('Error during call to suggestCharts:', error);\n",
       "      }\n",
       "      quickchartButtonEl.classList.remove('colab-df-spinner');\n",
       "      quickchartButtonEl.classList.add('colab-df-quickchart-complete');\n",
       "    }\n",
       "    (() => {\n",
       "      let quickchartButtonEl =\n",
       "        document.querySelector('#df-089e49f3-bcf7-408e-9c52-78d9ac94b482 button');\n",
       "      quickchartButtonEl.style.display =\n",
       "        google.colab.kernel.accessAllowed ? 'block' : 'none';\n",
       "    })();\n",
       "  </script>\n",
       "</div>\n",
       "\n",
       "    </div>\n",
       "  </div>\n"
      ],
      "text/plain": [
       "      value    category\n",
       "0  0.047611  noactivity\n",
       "1  0.047704  noactivity\n",
       "2  0.047661  noactivity\n",
       "3  0.047573  noactivity\n",
       "4  0.047452  noactivity"
      ]
     },
     "execution_count": 211,
     "metadata": {},
     "output_type": "execute_result"
    }
   ],
   "source": [
    "# Combine noactivity and activity loss values\n",
    "df_activity = pd.DataFrame(activity_loss, columns=['value'])\n",
    "df_activity['category'] = 'activity'\n",
    "\n",
    "df_noactivity = pd.DataFrame(noactivity_loss, columns=['value'])\n",
    "df_noactivity['category'] = 'noactivity'\n",
    "\n",
    "df_full = pd.concat([df_noactivity, df_activity])\n",
    "df_full.head()"
   ]
  },
  {
   "cell_type": "markdown",
   "metadata": {
    "id": "jQRP_kxkzy7M"
   },
   "source": [
    "# Step 2. Determine a suitable Threshold for the Anomaly Detection System using the Loss of the AutoEncoder"
   ]
  },
  {
   "cell_type": "code",
   "execution_count": 212,
   "metadata": {
    "colab": {
     "base_uri": "https://localhost:8080/",
     "height": 466
    },
    "id": "E4cZvQcwGUZ-",
    "outputId": "b7426d68-0e99-4178-f1fd-85ceb2de5e59"
   },
   "outputs": [
    {
     "data": {
      "text/plain": [
       "<Axes: xlabel='value', ylabel='Count'>"
      ]
     },
     "execution_count": 212,
     "metadata": {},
     "output_type": "execute_result"
    },
    {
     "data": {
      "image/png": "[encoded data removed]",
      "text/plain": [
       "<Figure size 640x480 with 1 Axes>"
      ]
     },
     "metadata": {},
     "output_type": "display_data"
    }
   ],
   "source": [
    "import seaborn as sns\n",
    "import matplotlib.pyplot as plt\n",
    "\n",
    "# Create figure and axis\n",
    "fig, ax1 = plt.subplots(1, 1)\n",
    "\n",
    "sns.histplot(data=df_full, x='value', hue='category', ax=ax1)"
   ]
  },
  {
   "cell_type": "markdown",
   "metadata": {
    "id": "adPUbw08-BOH"
   },
   "source": [
    "a. Show Visual Proof using Histograms to show why that Threshold is the best for the task"
   ]
  },
  {
   "cell_type": "code",
   "execution_count": 213,
   "metadata": {
    "colab": {
     "base_uri": "https://localhost:8080/",
     "height": 455
    },
    "id": "yfEQspphGXOQ",
    "outputId": "357148e9-a622-4799-ef37-302d3632f7a4"
   },
   "outputs": [
    {
     "data": {
      "image/png": "[encoded data removed]",
      "text/plain": [
       "<Figure size 640x480 with 1 Axes>"
      ]
     },
     "execution_count": 213,
     "metadata": {},
     "output_type": "execute_result"
    }
   ],
   "source": [
    "# Shorten range for accuracy\n",
    "ax1.set_xlim([0.02, 0.04])\n",
    "ax1.set_ylim([0, 100])\n",
    "fig"
   ]
  },
  {
   "cell_type": "code",
   "execution_count": null,
   "metadata": {
    "colab": {
     "base_uri": "https://localhost:8080/"
    },
    "id": "qdOW8TkaG5Gv",
    "outputId": "ee9d7c02-57fb-483d-90cb-3ca39c2ad0d9"
   },
   "outputs": [
    {
     "name": "stdout",
     "output_type": "stream",
     "text": [
      "tensor(False) tensor(False)\n"
     ]
    }
   ],
   "source": [
    "threshold = 0.031\n",
    "\n",
    "# The value in the middle of the normal and anomaly values is between 0.0300 and 0.0325,\n",
    "# so the threshold must be around 0.031."
   ]
  },
  {
   "cell_type": "code",
   "execution_count": null,
   "metadata": {
    "colab": {
     "base_uri": "https://localhost:8080/"
    },
    "id": "fB-Bh4quriCP",
    "outputId": "62da5533-b914-499d-afbb-85a2a78e74ea"
   },
   "outputs": [
    {
     "data": {
      "text/plain": [
       "389"
      ]
     },
     "execution_count": 216,
     "metadata": {},
     "output_type": "execute_result"
    }
   ],
   "source": [
    "# Testing the threhold\n",
    "# import random\n",
    "# a = random.randint(0,1000)\n",
    "\n",
    "# print(loss_fn(model(X_noactivity_tensor[a]), X_noactivity_tensor[a]).item())"
   ]
  },
  {
   "cell_type": "code",
   "execution_count": 218,
   "metadata": {
    "colab": {
     "base_uri": "https://localhost:8080/",
     "height": 435
    },
    "id": "qMdo6nm2f0Ew",
    "outputId": "591a9e5d-4495-47a7-f311-cccb0efdcdf5"
   },
   "outputs": [
    {
     "data": {
      "image/png": "[encoded data removed]",
      "text/plain": [
       "<Figure size 640x480 with 1 Axes>"
      ]
     },
     "metadata": {},
     "output_type": "display_data"
    }
   ],
   "source": [
    "plt.plot(loss_values)\n",
    "plt.show()"
   ]
  },
  {
   "cell_type": "markdown",
   "metadata": {
    "id": "-sEMuW94APYS"
   },
   "source": [
    "# 3. Answer the Following Questions at the end of the Python Notebook"
   ]
  },
  {
   "cell_type": "markdown",
   "metadata": {
    "id": "m-Ipe1DOAQot"
   },
   "source": [
    "a. Try to recreate the model, but use a smaller latent vector. What happened in this case and why do you think this happened?\n",
    "\n",
    "Using a smaller latent vector (3) led to significant increase of counts of anomalies (activity), significant decrease of counts for normal values (not activity), and decrease of loss values of anomalies, shifting them in the graph near zero. A possible reason for this is the small latent vector means less information is captured from the input data. Therefore, reconstructing the latent vector becomes makes the model more prone to error, resulting to a higher count of the instances being flagged as anomalies. Also, the small latent vector means excessive compression, leading to the model failing to differentiate anomalies and identifying minimal differences from reconstruction. This is what caused the low loss values of anomalies."
   ]
  },
  {
   "cell_type": "code",
   "execution_count": 219,
   "metadata": {
    "colab": {
     "base_uri": "https://localhost:8080/"
    },
    "id": "LuI7r5JnAS5-",
    "outputId": "856b16ac-0987-41b9-8eb3-7f6e5d8fa517"
   },
   "outputs": [
    {
     "name": "stdout",
     "output_type": "stream",
     "text": []
    }
   ],
   "source": [
    "# Use latent vector of size 3\n",
    "class AnomalyDetectionSmallLatent(nn.Module):\n",
    "  def __init__(self):\n",
    "    super().__init__()\n",
    "\n",
    "    self.encoder = nn.Linear(31, 3)\n",
    "\n",
    "    self.decoder = nn.Linear(3, 31)\n",
    "\n",
    "  def forward(self, x):\n",
    "    latent = self.encoder(x)\n",
    "    reconstructed = self.decoder(latent)\n",
    "    return reconstructed\n",
    "\n",
    "model = AnomalyDetectionSmallLatent()\n",
    "loss_fn = nn.MSELoss()\n",
    "optimizer = torch.optim.SGD(model.parameters(), lr=0.0001)\n",
    "\n",
    "X_activity_tensor = torch.tensor(X_activity.values).to(torch.float32)\n",
    "X_noactivity_tensor = torch.tensor(X_noactivity.values).to(torch.float32)\n",
    "\n",
    "loss_values = []\n",
    "model.train()\n",
    "\n",
    "for epoch in range(epochs):\n",
    "  for i in range(0, len(X_noactivity), batch_size):\n",
    "    reconst = model(X_noactivity_tensor[i:i+batch_size])\n",
    "    loss = loss_fn(reconst, X_noactivity_tensor[i:i+batch_size])\n",
    "\n",
    "    loss.backward()\n",
    "    optimizer.step()\n",
    "    optimizer.zero_grad()\n",
    "\n",
    "    loss_values.append(loss.item())\n",
    "\n",
    "    print('Epoch{0} Step {1}: Loss - {2}'.format(epoch+1, i, loss), end='\\r')"
   ]
  },
  {
   "cell_type": "code",
   "execution_count": 220,
   "metadata": {
    "colab": {
     "base_uri": "https://localhost:8080/",
     "height": 466
    },
    "id": "3xfYCsPyBKxZ",
    "outputId": "c85c4c6f-1e9b-4338-9441-3e52db30d194"
   },
   "outputs": [
    {
     "data": {
      "text/plain": [
       "<Axes: xlabel='value', ylabel='Count'>"
      ]
     },
     "execution_count": 220,
     "metadata": {},
     "output_type": "execute_result"
    },
    {
     "data": {
      "image/png": "[encoded data removed]",
      "text/plain": [
       "<Figure size 640x480 with 1 Axes>"
      ]
     },
     "metadata": {},
     "output_type": "display_data"
    }
   ],
   "source": [
    "activity_loss_small = []\n",
    "\n",
    "for i in range(0, sample_size):\n",
    "  with torch.no_grad():\n",
    "    reconstructed = model(X_activity_tensor[i])\n",
    "    loss = loss_fn(reconstructed,X_activity_tensor[i])\n",
    "\n",
    "    activity_loss_small.append(loss.item())\n",
    "\n",
    "noactivity_loss_small = []\n",
    "\n",
    "for i in range(0, sample_size):\n",
    "  with torch.no_grad():\n",
    "    reconstructed = model(X_noactivity_tensor[i])\n",
    "    loss = loss_fn(reconstructed,X_noactivity_tensor[i])\n",
    "\n",
    "    noactivity_loss_small.append(loss.item())\n",
    "\n",
    "df_activity_small = pd.DataFrame(activity_loss_small, columns=['value'])\n",
    "df_activity_small['category'] = 'activity'\n",
    "\n",
    "df_noactivity_small = pd.DataFrame(noactivity_loss_small, columns=['value'])\n",
    "df_noactivity_small['category'] = 'noactivity'\n",
    "\n",
    "df_full_small = pd.concat([df_noactivity_small, df_activity_small])\n",
    "# df_full.head()\n",
    "\n",
    "import seaborn as sns\n",
    "import matplotlib.pyplot as plt\n",
    "\n",
    "fig, ax2 = plt.subplots(1, 1)\n",
    "sns.histplot(data=df_full_small, x='value', hue='category')"
   ]
  },
  {
   "cell_type": "markdown",
   "metadata": {
    "id": "ImDDhkQbAUzH"
   },
   "source": [
    "b. Try to recreate the model where the latent vector is bigger in size than the input\n",
    "vector. What happened in this case and why do you think happened?\n",
    "\n",
    "Using a latent vector of size (1000), which is significantly higher than the input vector(31), surprisingly led to a result that is very similar to the initial graph. A possible explanation for this is the large size of latent vector allowed for more information to be captured from the input vector, so it has more accuracy when classifying the inputs. However, the the extremely large space, it may also tend to pick up all details of the training data and \"memorize\" them in a way. This can explain the high accuracy of the graph since it is classifying the training data as well. This hinders the model from finding important patterns from the input vector, thus it is good in working with the training data but can hae difficulties with an unfamiliar testing data."
   ]
  },
  {
   "cell_type": "code",
   "execution_count": 225,
   "metadata": {
    "colab": {
     "base_uri": "https://localhost:8080/"
    },
    "id": "M0AGZrnvBwXg",
    "outputId": "b469c477-01fe-46c2-86b8-982526b59419"
   },
   "outputs": [
    {
     "name": "stdout",
     "output_type": "stream",
     "text": []
    }
   ],
   "source": [
    "# Use latent vector of size 1000\n",
    "class AnomalyDetectionBigLatent(nn.Module):\n",
    "  def __init__(self):\n",
    "    super().__init__()\n",
    "\n",
    "    self.encoder = nn.Linear(31, 1000)\n",
    "\n",
    "    self.decoder = nn.Linear(1000, 31)\n",
    "\n",
    "  def forward(self, x):\n",
    "    latent = self.encoder(x)\n",
    "    reconstructed = self.decoder(latent)\n",
    "    return reconstructed\n",
    "\n",
    "model = AnomalyDetectionBigLatent()\n",
    "loss_fn = nn.MSELoss()\n",
    "optimizer = torch.optim.SGD(model.parameters(), lr=0.0001)\n",
    "\n",
    "X_activity_tensor = torch.tensor(X_activity.values).to(torch.float32)\n",
    "X_noactivity_tensor = torch.tensor(X_noactivity.values).to(torch.float32)\n",
    "\n",
    "loss_values = []\n",
    "model.train()\n",
    "\n",
    "for epoch in range(epochs):\n",
    "  for i in range(0, len(X_noactivity), batch_size):\n",
    "    reconst = model(X_noactivity_tensor[i:i+batch_size])\n",
    "    loss = loss_fn(reconst, X_noactivity_tensor[i:i+batch_size])\n",
    "\n",
    "    loss.backward()\n",
    "    optimizer.step()\n",
    "    optimizer.zero_grad()\n",
    "\n",
    "    loss_values.append(loss.item())\n",
    "\n",
    "    print('Epoch{0} Step {1}: Loss - {2}'.format(epoch+1, i, loss), end='\\r')"
   ]
  },
  {
   "cell_type": "code",
   "execution_count": null,
   "metadata": {
    "colab": {
     "base_uri": "https://localhost:8080/",
     "height": 466
    },
    "id": "6vRKLtzLBzCf",
    "outputId": "69dac043-410b-4120-c50d-72d448494dce"
   },
   "outputs": [
    {
     "data": {
      "text/plain": [
       "<Axes: xlabel='value', ylabel='Count'>"
      ]
     },
     "execution_count": 226,
     "metadata": {},
     "output_type": "execute_result"
    },
    {
     "data": {
      "image/png": "[encoded data removed]",
      "text/plain": [
       "<Figure size 640x480 with 1 Axes>"
      ]
     },
     "metadata": {},
     "output_type": "display_data"
    }
   ],
   "source": [
    "activity_loss_big = []\n",
    "\n",
    "for i in range(0, sample_size):\n",
    "  with torch.no_grad():\n",
    "    reconstructed = model(X_activity_tensor[i])\n",
    "    loss = loss_fn(reconstructed,X_activity_tensor[i])\n",
    "\n",
    "    activity_loss_big.append(loss.item())\n",
    "\n",
    "noactivity_loss_big = []\n",
    "\n",
    "for i in range(0, sample_size):\n",
    "  with torch.no_grad():\n",
    "    reconstructed = model(X_noactivity_tensor[i])\n",
    "    loss = loss_fn(reconstructed,X_noactivity_tensor[i])\n",
    "\n",
    "    noactivity_loss_big.append(loss.item())\n",
    "\n",
    "df_activity_big = pd.DataFrame(activity_loss, columns=['value'])\n",
    "df_activity_big['category'] = 'activity'\n",
    "\n",
    "df_noactivity_big = pd.DataFrame(noactivity_loss, columns=['value'])\n",
    "df_noactivity_big['category'] = 'noactivity'\n",
    "\n",
    "df_full_big = pd.concat([df_noactivity, df_activity])\n",
    "# df_full.head()\n",
    "\n",
    "import seaborn as sns\n",
    "import matplotlib.pyplot as plt\n",
    "\n",
    "fig, ax3 = plt.subplots(1, 1)\n",
    "sns.histplot(data=df_full_big, x='value', hue='category')"
   ]
  }
 ],
 "metadata": {
  "colab": {
   "provenance": []
  },
  "kernelspec": {
   "display_name": "Python 3",
   "name": "python3"
  },
  "language_info": {
   "name": "python"
  }
 },
 "nbformat": 4,
 "nbformat_minor": 0
}
